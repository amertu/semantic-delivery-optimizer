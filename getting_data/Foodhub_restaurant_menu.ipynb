{
 "cells": [
  {
   "cell_type": "code",
   "execution_count": 1,
   "metadata": {},
   "outputs": [],
   "source": [
    "import os\n",
    "\n",
    "import json\n",
    "import pandas as pd \n",
    "import numpy as np \n",
    "from pandas import Series\n",
    "from pandas import DataFrame\n",
    "import requests"
   ]
  },
  {
   "cell_type": "code",
   "execution_count": 2,
   "metadata": {},
   "outputs": [],
   "source": [
    "# data collection paths\n",
    "data_folder = './Data/'\n"
   ]
  },
  {
   "cell_type": "markdown",
   "metadata": {},
   "source": [
    "#### Foodhub Restaurants"
   ]
  },
  {
   "cell_type": "code",
   "execution_count": 11,
   "metadata": {},
   "outputs": [],
   "source": [
    "# request to extract some some data about restaurants from foodhub datasource \n",
    "headers = {\n",
    "    'User-Agent': 'Mozilla/5.0 (Windows NT 10.0; Win64; x64; rv:71.0) Gecko/20100101 Firefox/71.0',\n",
    "    'Accept': 'application/json, text/plain, */*',\n",
    "    'Accept-Language': 'de,en-US;q=0.7,en;q=0.3',\n",
    "    'Content-Type': 'application/x-www-form-urlencoded',\n",
    "    'Origin': 'https://foodhub.co.uk',\n",
    "    'Connection': 'keep-alive',\n",
    "    'Referer': 'https://foodhub.co.uk/list/SW9%209TN',\n",
    "    'TE': 'Trailers',\n",
    "}\n",
    "\n",
    "params = (\n",
    "    ('api_token', '99b8ad5d2f9e80889efcd73bc31f7e7b'),\n",
    "    ('app_name', 'FOODHUB'),\n",
    ")\n",
    "\n",
    "data = {\n",
    "  'postcode': 'SW9 9TN'\n",
    "}\n",
    "\n",
    "response = requests.post('https://api.t2sonline.com/foodhub/takeaway/list', headers=headers, params=params, data=data)"
   ]
  },
  {
   "cell_type": "code",
   "execution_count": 12,
   "metadata": {},
   "outputs": [],
   "source": [
    "foodhub_restaurants = json.loads(response.content)"
   ]
  },
  {
   "cell_type": "code",
   "execution_count": 15,
   "metadata": {},
   "outputs": [],
   "source": [
    "# extract the cuisines for each restaurant\n",
    "restaurants_cuisines = []\n",
    "for item in foodhub_restaurants['data']:\n",
    "    restaurant_cuisines = []\n",
    "    for x in item['cuisines']:\n",
    "        restaurant_cuisines.append(x['name'])\n",
    "    restaurants_cuisines.append(restaurant_cuisines)\n",
    "#len(restaurants_cuisines)"
   ]
  },
  {
   "cell_type": "code",
   "execution_count": 16,
   "metadata": {},
   "outputs": [],
   "source": [
    "# build a datafrom from the restaurant data\n",
    "foodhub_restaurants_df = pd.DataFrame.from_dict(foodhub_restaurants['data'])\n",
    "#foodhub_restaurants_df[foodhub_restaurants_df.city == 'a'].town"
   ]
  },
  {
   "cell_type": "code",
   "execution_count": 17,
   "metadata": {},
   "outputs": [],
   "source": [
    "# extract the restaurants' ids from restaurant data to use it later in getting the menu data.\n",
    "stor_list_id = foodhub_restaurants_df.loc[:24,['id']]\n",
    "#stor_list_id.iloc[1]"
   ]
  },
  {
   "cell_type": "code",
   "execution_count": 18,
   "metadata": {},
   "outputs": [],
   "source": [
    "# delete the city column \n",
    "del foodhub_restaurants_df['city']"
   ]
  },
  {
   "cell_type": "code",
   "execution_count": 19,
   "metadata": {},
   "outputs": [],
   "source": [
    "#define a mapper\n",
    "mapper = {'town': 'city', 'postcode': 'post_code',\n",
    "          'lat': 'latitude', 'lng':'longitude','cash_payment': 'payment_cash',\n",
    "          'card_payment': 'payment_card', 'rating': 'rating_value', 'rating_value': 'rating_count'}"
   ]
  },
  {
   "cell_type": "code",
   "execution_count": 20,
   "metadata": {},
   "outputs": [],
   "source": [
    "# rename the dataframe columns according to mapper\n",
    "foodhub_restaurants_df_new = foodhub_restaurants_df.rename(mapper, axis=1)"
   ]
  },
  {
   "cell_type": "code",
   "execution_count": 11,
   "metadata": {},
   "outputs": [],
   "source": [
    "#foodhub_restaurants_df_new"
   ]
  },
  {
   "cell_type": "code",
   "execution_count": 21,
   "metadata": {},
   "outputs": [],
   "source": [
    "# add cuisine column to the dataframe\n",
    "foodhub_restaurants_df_new = foodhub_restaurants_df_new.assign(cuisine = restaurants_cuisines)"
   ]
  },
  {
   "cell_type": "code",
   "execution_count": 22,
   "metadata": {},
   "outputs": [
    {
     "data": {
      "text/plain": [
       "0        afandinalebanesecusine.co.uk\n",
       "1                   bari-pizzeria.com\n",
       "2                 batterseagarden.com\n",
       "3                   bebskitchen.co.uk\n",
       "4                   bigbenpizza.co.uk\n",
       "5                 bombayinnonline.com\n",
       "6             bombaykitchenonline.com\n",
       "7            cardamomclubtakeaway.com\n",
       "8       crownpointpizzaandgrill.co.uk\n",
       "9                      curry-base.com\n",
       "10    dilpasandexpressstreatham.co.uk\n",
       "11               fornopizzaonline.com\n",
       "12              fusiongrilllondon.com\n",
       "13           godfatherpizzaonline.com\n",
       "14                hottakelondon.co.uk\n",
       "15                jrjamesonline.co.uk\n",
       "16             kinggrillbattersea.com\n",
       "17    laparmapizzeria-battersea.co.uk\n",
       "18                 londonfastfood.com\n",
       "19                   mrmaonline.co.uk\n",
       "20               napurarestaurant.com\n",
       "21           newmilanopizzaonline.com\n",
       "22                    orchidpizza.com\n",
       "23           oregano-leafpizzeria.com\n",
       "24    oreganoleafpizzeriaonline.co.uk\n",
       "25                   pizzamania.co.uk\n",
       "26                poppyhanaonline.com\n",
       "27                    pppsw65ua.co.uk\n",
       "28                    reganopizza.com\n",
       "29          roostersspotbrixton.co.uk\n",
       "30                   taza-grill.co.uk\n",
       "31          toscanapizzeriaonline.com\n",
       "32                 yumyumtakeaway.com\n",
       "33           zainabmahaldulwich.co.uk\n",
       "34               dialacurryonline.com\n",
       "35           luckyfishbaronline.co.uk\n",
       "36              mangocurryofindia.com\n",
       "37              monkeysrestaurant.com\n",
       "38                 moorishgrill.co.uk\n",
       "39                 negrilonline.co.uk\n",
       "40                   ovaltandoori.com\n",
       "41        website355.bigfoodie1.co.uk\n",
       "42        website357.bigfoodie1.co.uk\n",
       "43        website361.bigfoodie1.co.uk\n",
       "44        website485.bigfoodie1.co.uk\n",
       "45                  woondalonline.com\n",
       "46            zestofindiaonline.co.uk\n",
       "Name: url, dtype: object"
      ]
     },
     "execution_count": 22,
     "metadata": {},
     "output_type": "execute_result"
    }
   ],
   "source": [
    "# add new columns\n",
    "foodhub_restaurants_df_new['data_source'] = 'foodhub'\n",
    "new_columns =['number_addon','breakfast', 'lunch', 'sandwiches', 'price_category']\n",
    "for i in new_columns:\n",
    "    foodhub_restaurants_df_new[i] = np.nan\n",
    "foodhub_restaurants_df_new.loc[:,'url']"
   ]
  },
  {
   "cell_type": "code",
   "execution_count": 23,
   "metadata": {},
   "outputs": [],
   "source": [
    "# rearrange the columns\n",
    "foodhub_restaurants_df_new = foodhub_restaurants_df_new.loc[:,['name',  # restaurant name\n",
    "                       'cuisine',  # such a s 'italian', 'bugers' , NOTE: should this be a list?\n",
    "                       'description',\n",
    "                       'price_category',  # such as '€', '€€', '€€€', mapped to 1, 2, 3, ...\n",
    "                       'breakfast',\n",
    "                       'lunch',\n",
    "                       'sandwiches',\n",
    "                       'city',\n",
    "                       'post_code',\n",
    "                       'street',\n",
    "                       'number',  # house number, like 56\n",
    "                       'number_addon',  # add on to house number, like 56/2 or 56-2\n",
    "                       'phone',\n",
    "                       'url',\n",
    "                       'latitude',\n",
    "                       'longitude',\n",
    "                       'delivery_charge',\n",
    "                       'min_order',  # min amount of order, in pounds\n",
    "                       'payment_cash',\n",
    "                       'payment_card',\n",
    "                       'waiting_time',  # how long after order is pickup [do we need this?]\n",
    "                       'delivery_time',  # typical delivery time to address\n",
    "                       'delivery_postcode',  # where delivery is possible to\n",
    "                       'rating_value',\n",
    "                       'rating_count',  # how many ratings?\n",
    "                       'data_source'  # such as 'uber eats', 'foodhub', etc.\n",
    "                       ]]"
   ]
  },
  {
   "cell_type": "code",
   "execution_count": null,
   "metadata": {},
   "outputs": [],
   "source": []
  },
  {
   "cell_type": "code",
   "execution_count": 24,
   "metadata": {},
   "outputs": [],
   "source": [
    "# as intermediate result, save out the dataframe containin info only on restaurants\n",
    "foodhub_restaurants_df_new.to_json(os.path.join(data_folder, 'foodhub.json'))"
   ]
  },
  {
   "cell_type": "markdown",
   "metadata": {},
   "source": [
    "#### Foodhub Restaurant Menu"
   ]
  },
  {
   "cell_type": "code",
   "execution_count": 25,
   "metadata": {},
   "outputs": [],
   "source": [
    "#define params for menus requests\n",
    "params = (\n",
    "    ('app_name', 'FOODHUB'),\n",
    "    ('', ''),\n",
    "    ('sref', '795946'),\n",
    "    ('day', 'tuesday'),\n",
    "    ('date', 'Tue Dec 10 2019 17:04:37 GMT 0100 (Mitteleurop\\xE4ische Normalzeit)'),\n",
    ")"
   ]
  },
  {
   "cell_type": "code",
   "execution_count": 26,
   "metadata": {},
   "outputs": [
    {
     "data": {
      "text/plain": [
       "25"
      ]
     },
     "execution_count": 26,
     "metadata": {},
     "output_type": "execute_result"
    }
   ],
   "source": [
    "# list of menu url of 25 restaurants\n",
    "referer_list = ['https://foodhub.co.uk/ordernow/afandina-lebanese-cusine/a/3979730',\n",
    "                'https://foodhub.co.uk/ordernow/bari-pizzeria/battersea-park/4025780',\n",
    "                'https://foodhub.co.uk/ordernow/battersea-garden/a/4011710',\n",
    "                'https://foodhub.co.uk/ordernow/bebs-kitchen/london/3996945',\n",
    "                'https://foodhub.co.uk/ordernow/big-ben-pizza/a/4005365',\n",
    "                'https://foodhub.co.uk/ordernow/bombay-inn/surrey/3987255',\n",
    "                'https://foodhub.co.uk/ordernow/bombay-kitchen/london/3990350',\n",
    "                'https://foodhub.co.uk/ordernow/crown-point-pizza-and-grill/west-norwood/3997715',\n",
    "                'https://foodhub.co.uk/ordernow/curry-base/battersea/3994275',\n",
    "                'https://foodhub.co.uk/ordernow/dilpasand-express/surrey/4014660',\n",
    "                'https://foodhub.co.uk/ordernow/forno-pizza/a/4009435',\n",
    "                'https://foodhub.co.uk/ordernow/fusion-grill/london/3983855',\n",
    "                'https://foodhub.co.uk/ordernow/go-go-gourmet-pizza/london/4026705',\n",
    "                'https://foodhub.co.uk/ordernow/godfather-stone-baked-italian-pizza/london/4015190',\n",
    "                'https://foodhub.co.uk/ordernow/fresh-gourmet-pizza/london/4014760',\n",
    "                'https://foodhub.co.uk/ordernow/hot-take/a/3996930',\n",
    "                'https://foodhub.co.uk/ordernow/j-r-james/a/3986275',\n",
    "                'https://foodhub.co.uk/ordernow/king-grill/a/4011705',\n",
    "                'https://foodhub.co.uk/ordernow/mr-ma-kitchen/london/27330',\n",
    "                'https://foodhub.co.uk/ordernow/napura/nunhead/4027200',\n",
    "                'https://foodhub.co.uk/ordernow/new-milano-pizza/a/4009280',\n",
    "                'https://foodhub.co.uk/ordernow/orchid-pizza/a/4007700',\n",
    "                'https://foodhub.co.uk/ordernow/oregano-leaf/london/4017535',\n",
    "                'https://foodhub.co.uk/ordernow/pizza-mania/a/4009985',\n",
    "                'https://foodhub.co.uk/ordernow/poppy-hana/london/3999055']\n",
    "len(referer_list)"
   ]
  },
  {
   "cell_type": "code",
   "execution_count": 27,
   "metadata": {},
   "outputs": [],
   "source": [
    "# list of headers for menus requests \n",
    "headers_list = []\n",
    "for i in range(25):\n",
    "    header = {}\n",
    "    header['User-Agent'] = 'Mozilla/5.0 (Windows NT 10.0; Win64; x64; rv:71.0) Gecko/20100101 Firefox/71.0'\n",
    "    header['Accept'] = 'application/json, text/plain, */*'\n",
    "    header['Accept-Language'] = 'de,en-US;q=0.7,en;q=0.3'\n",
    "    header['Store'] = str(stor_list_id.iloc[i].values[0])\n",
    "    header['Origin'] = 'https://foodhub.co.uk'\n",
    "    header['Connection'] = 'keep-alive'\n",
    "    header['Referer'] = referer_list[i]\n",
    "    header['TE'] = 'Trailers'\n",
    "    headers_list.append(header)"
   ]
  },
  {
   "cell_type": "code",
   "execution_count": 28,
   "metadata": {},
   "outputs": [],
   "source": [
    "#headers_list[11]"
   ]
  },
  {
   "cell_type": "code",
   "execution_count": 29,
   "metadata": {},
   "outputs": [],
   "source": [
    "# save responses in data-menu list  \n",
    "response_list = []\n",
    "data_menu = []\n",
    "for i in range(25):\n",
    "    header = headers_list[i]\n",
    "    response = requests.get('https://api.t2sonline.com/consumer/menu/popular', headers=header, params=params)\n",
    "    x = json.loads(response.content)\n",
    "    #print(x['data'][0])\n",
    "    #break\n",
    "    for j in range(len(x['data'])):\n",
    "        data_menu.append(x['data'][j])\n",
    "        #if j == 10:\n",
    "            #break"
   ]
  },
  {
   "cell_type": "code",
   "execution_count": 21,
   "metadata": {},
   "outputs": [],
   "source": [
    "#data_menu"
   ]
  },
  {
   "cell_type": "code",
   "execution_count": 30,
   "metadata": {},
   "outputs": [],
   "source": [
    "# build dataframe from menu data and select specific columns\n",
    "df = pd.DataFrame.from_dict(data_menu)"
   ]
  },
  {
   "cell_type": "code",
   "execution_count": 32,
   "metadata": {},
   "outputs": [
    {
     "data": {
      "text/plain": [
       "{'id': 10685776,\n",
       " 'host': 'afandinalebanesecusine.co.uk',\n",
       " 'item_addon_cat': '7395670',\n",
       " 'name': 'Falafel Special',\n",
       " 'description': 'Deep fried mixture of ground chickpeas and broad beans with spices served with hummus, salad, lebanese bread and tahina sauce.',\n",
       " 'information': None,\n",
       " 'price': '10.50',\n",
       " 'subcat': 2330863,\n",
       " 'image': '',\n",
       " 'aws_image': '',\n",
       " 'image_backup': '',\n",
       " 'addon_type': '4',\n",
       " 'monday': 1,\n",
       " 'tuesday': 1,\n",
       " 'wednesday': 1,\n",
       " 'thursday': 1,\n",
       " 'friday': 1,\n",
       " 'saturday': 1,\n",
       " 'sunday': 1,\n",
       " 'delivery': 1,\n",
       " 'collection': 1,\n",
       " 'show_online': 1,\n",
       " 'background_color': '0000ff',\n",
       " 'font_color': 'ffffff',\n",
       " 'pos': 3,\n",
       " 'offer': 'NONE',\n",
       " 'btn_name': '',\n",
       " 'mip_id': 0,\n",
       " 'coupon_allowed': 1,\n",
       " 'collection_discount_allowed': 1,\n",
       " 'online_discount_allowed': 1,\n",
       " 'item_code': None,\n",
       " 'added': '2018-08-10 15:39:24',\n",
       " 'user_id': 'yohanpradeep',\n",
       " 'page': 'add_item_insert',\n",
       " 'modified': '2019-12-04 22:05:53',\n",
       " 'modified_by': 'Fabinbaptist',\n",
       " 'modified_page': 'update_description',\n",
       " 'vat': '1',\n",
       " 'exclude_free': 1,\n",
       " 'second_language_name': '',\n",
       " 'second_language_description': '',\n",
       " 'printer': 0,\n",
       " 'section': 0,\n",
       " 'is_print_label': '0',\n",
       " 'is_vat_included': '1',\n",
       " 'food_type': 'NONE',\n",
       " 'sections': None}"
      ]
     },
     "execution_count": 32,
     "metadata": {},
     "output_type": "execute_result"
    }
   ],
   "source": [
    "data_menu[0]"
   ]
  },
  {
   "cell_type": "code",
   "execution_count": 23,
   "metadata": {},
   "outputs": [],
   "source": [
    "menu_df = df.loc[:, ['host', 'name','description', 'price']]"
   ]
  },
  {
   "cell_type": "code",
   "execution_count": 24,
   "metadata": {},
   "outputs": [],
   "source": [
    "# merge restaurant data with their menus\n",
    "restaurant_menu = pd.merge(foodhub_restaurants_df_new, menu_df,  how='left', left_on=['url'], right_on = ['host'])"
   ]
  },
  {
   "cell_type": "code",
   "execution_count": 25,
   "metadata": {},
   "outputs": [],
   "source": [
    "# delete menu items with NaN values-fai \n",
    "restaurant_menu = restaurant_menu[restaurant_menu['price'].notnull()]"
   ]
  },
  {
   "cell_type": "code",
   "execution_count": 1,
   "metadata": {},
   "outputs": [
    {
     "ename": "NameError",
     "evalue": "name 'restaurant_menu' is not defined",
     "output_type": "error",
     "traceback": [
      "\u001b[0;31m---------------------------------------------------------------------------\u001b[0m",
      "\u001b[0;31mNameError\u001b[0m                                 Traceback (most recent call last)",
      "\u001b[0;32m<ipython-input-1-d124173dfc01>\u001b[0m in \u001b[0;36m<module>\u001b[0;34m\u001b[0m\n\u001b[0;32m----> 1\u001b[0;31m \u001b[0mrestaurant_menu\u001b[0m\u001b[0;34m.\u001b[0m\u001b[0mhead\u001b[0m\u001b[0;34m(\u001b[0m\u001b[0;36m2\u001b[0m\u001b[0;34m)\u001b[0m \u001b[0;31m# city values: Brixton and SURREY are not in London, the rest is either London or part/district of London\u001b[0m\u001b[0;34m\u001b[0m\u001b[0;34m\u001b[0m\u001b[0m\n\u001b[0m\u001b[1;32m      2\u001b[0m                 \u001b[0;31m# features with NaN values are not found in the data source.\u001b[0m\u001b[0;34m\u001b[0m\u001b[0;34m\u001b[0m\u001b[0;34m\u001b[0m\u001b[0m\n",
      "\u001b[0;31mNameError\u001b[0m: name 'restaurant_menu' is not defined"
     ]
    }
   ],
   "source": [
    "restaurant_menu.head(2) # city values: Brixton and SURREY are not in London, the rest is either London or part/district of London\n",
    "                # features with NaN values are not found in the data source."
   ]
  },
  {
   "cell_type": "code",
   "execution_count": 30,
   "metadata": {},
   "outputs": [],
   "source": [
    "# restaurant_menu.to_csv(r'foodData.csv')"
   ]
  },
  {
   "cell_type": "code",
   "execution_count": 30,
   "metadata": {},
   "outputs": [],
   "source": [
    "restaurant_menu.to_json(os.path.join(data_folder, 'foodhub_with_menu.json'))"
   ]
  }
 ],
 "metadata": {
  "kernelspec": {
   "display_name": "Python 3",
   "language": "python",
   "name": "python3"
  },
  "language_info": {
   "codemirror_mode": {
    "name": "ipython",
    "version": 3
   },
   "file_extension": ".py",
   "mimetype": "text/x-python",
   "name": "python",
   "nbconvert_exporter": "python",
   "pygments_lexer": "ipython3",
   "version": "3.6.9"
  }
 },
 "nbformat": 4,
 "nbformat_minor": 4
}
