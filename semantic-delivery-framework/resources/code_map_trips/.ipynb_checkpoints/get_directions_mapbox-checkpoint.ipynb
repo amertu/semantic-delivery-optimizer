{
 "cells": [
  {
   "cell_type": "code",
   "execution_count": 1,
   "metadata": {},
   "outputs": [],
   "source": [
    "# local imports\n",
    "from mapbox_api import build_request, get_directions, get_coordinates_from_address"
   ]
  },
  {
   "cell_type": "code",
   "execution_count": 2,
   "metadata": {},
   "outputs": [],
   "source": [
    "# set up coordinates from coordinates to coordinates\n",
    "\n",
    "# latitude <-> Breitengrad\n",
    "# longitude <-> Längengrad\n",
    "\n",
    "long_from = -84.518641\n",
    "lat_from = 39.134270\n",
    " \n",
    "from_coord = (long_from, lat_from)\n",
    "\n",
    "long_to = -84.512023\n",
    "lat_to = 39.102779\n",
    "\n",
    "to_coord = (long_to, lat_to)"
   ]
  },
  {
   "cell_type": "code",
   "execution_count": 3,
   "metadata": {},
   "outputs": [
    {
     "name": "stdout",
     "output_type": "stream",
     "text": [
      "https://api.mapbox.com/directions/v5/mapbox/cycling/-84.518641,39.13427;-84.512023,39.102779?geometries=geojson&access_token=pk.eyJ1IjoiYmVwcG9tYXBwbyIsImEiOiJjazV0ZThwdnUwNG9lM21vemdra2tyaHRjIn0.OovNDeYTSbiwgi0OiM_mQA\n"
     ]
    }
   ],
   "source": [
    "# this his how to get the request string / URL (just for demonstration)\n",
    "req_str = build_request(from_coord, to_coord)\n",
    "\n",
    "print(req_str)"
   ]
  },
  {
   "cell_type": "code",
   "execution_count": 4,
   "metadata": {},
   "outputs": [],
   "source": [
    "# this is how to get the response of the map API, including duration.\n",
    "# Choose 'driving' or 'cycling', for example\n",
    "response_directions = get_directions(from_coord, to_coord, 'cycling')"
   ]
  },
  {
   "cell_type": "code",
   "execution_count": 5,
   "metadata": {},
   "outputs": [
    {
     "data": {
      "text/plain": [
       "[{'geometry': {'coordinates': [[-84.518509, 39.134135],\n",
       "    [-84.518432, 39.133835],\n",
       "    [-84.519144, 39.13352],\n",
       "    [-84.520228, 39.133649],\n",
       "    [-84.520733, 39.128594],\n",
       "    [-84.521212, 39.127956],\n",
       "    [-84.521548, 39.124838],\n",
       "    [-84.520706, 39.124792],\n",
       "    [-84.52094, 39.122783],\n",
       "    [-84.52022, 39.122713],\n",
       "    [-84.520768, 39.120841],\n",
       "    [-84.519639, 39.120268],\n",
       "    [-84.513743, 39.115317],\n",
       "    [-84.514554, 39.114744],\n",
       "    [-84.514307, 39.114531],\n",
       "    [-84.514551, 39.114249],\n",
       "    [-84.511692, 39.102682],\n",
       "    [-84.511987, 39.102638]],\n",
       "   'type': 'LineString'},\n",
       "  'legs': [{'summary': '',\n",
       "    'weight': 1365.3,\n",
       "    'duration': 1171.1,\n",
       "    'steps': [],\n",
       "    'distance': 4169.6}],\n",
       "  'weight_name': 'cyclability',\n",
       "  'weight': 1365.3,\n",
       "  'duration': 1171.1,\n",
       "  'distance': 4169.6}]"
      ]
     },
     "execution_count": 5,
     "metadata": {},
     "output_type": "execute_result"
    }
   ],
   "source": [
    "response_directions['routes']"
   ]
  },
  {
   "cell_type": "code",
   "execution_count": 6,
   "metadata": {},
   "outputs": [
    {
     "data": {
      "text/plain": [
       "19.51833333333333"
      ]
     },
     "metadata": {},
     "output_type": "display_data"
    }
   ],
   "source": [
    "# how to get the duration\n",
    "# the duration is given in SECONDS! Divide by 60 to get value in minutes!\n",
    "duration_minutes = response_directions['routes'][0]['duration'] / 60\n",
    "\n",
    "display(duration_minutes)"
   ]
  },
  {
   "cell_type": "code",
   "execution_count": 34,
   "metadata": {},
   "outputs": [],
   "source": [
    "from_address = get_coordinates_from_address('Stukeley street')"
   ]
  },
  {
   "cell_type": "code",
   "execution_count": 35,
   "metadata": {},
   "outputs": [
    {
     "data": {
      "text/plain": [
       "[-0.122998, 51.516326]"
      ]
     },
     "execution_count": 35,
     "metadata": {},
     "output_type": "execute_result"
    }
   ],
   "source": [
    "from_coord = from_address['features'][0]['geometry']['coordinates']\n",
    "from_coord"
   ]
  },
  {
   "cell_type": "code",
   "execution_count": 36,
   "metadata": {},
   "outputs": [
    {
     "data": {
      "text/plain": [
       "[-0.152095, 51.518341]"
      ]
     },
     "execution_count": 36,
     "metadata": {},
     "output_type": "execute_result"
    }
   ],
   "source": [
    "to_address = get_coordinates_from_address('Blandford street')\n",
    "to_coord = to_address['features'][0]['geometry']['coordinates']\n",
    "to_coord"
   ]
  },
  {
   "cell_type": "code",
   "execution_count": 39,
   "metadata": {},
   "outputs": [
    {
     "data": {
      "text/plain": [
       "{'routes': [{'geometry': {'coordinates': [[-0.122965, 51.516302],\n",
       "     [-0.123819, 51.515821],\n",
       "     [-0.124464, 51.516286],\n",
       "     [-0.125045, 51.517261],\n",
       "     [-0.125574, 51.517742],\n",
       "     [-0.126224, 51.51748],\n",
       "     [-0.126344, 51.517628],\n",
       "     [-0.12791, 51.517091],\n",
       "     [-0.129042, 51.516863],\n",
       "     [-0.129449, 51.517392],\n",
       "     [-0.129652, 51.517346],\n",
       "     [-0.130069, 51.51785],\n",
       "     [-0.130674, 51.517622],\n",
       "     [-0.131743, 51.518732],\n",
       "     [-0.132203, 51.518541],\n",
       "     [-0.13244, 51.518766],\n",
       "     [-0.134298, 51.51803],\n",
       "     [-0.136436, 51.520097],\n",
       "     [-0.137713, 51.519585],\n",
       "     [-0.138055, 51.519908],\n",
       "     [-0.140394, 51.518577],\n",
       "     [-0.1419, 51.518277],\n",
       "     [-0.14234, 51.519124],\n",
       "     [-0.142974, 51.519073],\n",
       "     [-0.143142, 51.519431],\n",
       "     [-0.145953, 51.518945],\n",
       "     [-0.146222, 51.519511],\n",
       "     [-0.151614, 51.518602],\n",
       "     [-0.151604, 51.518347],\n",
       "     [-0.152097, 51.518329]],\n",
       "    'type': 'LineString'},\n",
       "   'legs': [{'summary': '',\n",
       "     'weight': 1134.5,\n",
       "     'duration': 1002,\n",
       "     'steps': [],\n",
       "     'distance': 2821.9}],\n",
       "   'weight_name': 'cyclability',\n",
       "   'weight': 1134.5,\n",
       "   'duration': 1002,\n",
       "   'distance': 2821.9}],\n",
       " 'waypoints': [{'distance': 3.517923048210033,\n",
       "   'name': 'Stukeley Street',\n",
       "   'location': [-0.122965, 51.516302]},\n",
       "  {'distance': 1.3423024896711784,\n",
       "   'name': 'Blandford Street',\n",
       "   'location': [-0.152097, 51.518329]}],\n",
       " 'code': 'Ok',\n",
       " 'uuid': 'ck5zh8a9l00av3ilpxcti145p'}"
      ]
     },
     "execution_count": 39,
     "metadata": {},
     "output_type": "execute_result"
    }
   ],
   "source": [
    "response_directions = get_directions(from_coord, to_coord, 'cycling')\n",
    "response_directions"
   ]
  },
  {
   "cell_type": "code",
   "execution_count": 38,
   "metadata": {},
   "outputs": [
    {
     "data": {
      "text/plain": [
       "16.7"
      ]
     },
     "execution_count": 38,
     "metadata": {},
     "output_type": "execute_result"
    }
   ],
   "source": [
    "response_directions['routes'][0]['duration'] / 60"
   ]
  }
 ],
 "metadata": {
  "kernelspec": {
   "display_name": "Python 3",
   "language": "python",
   "name": "python3"
  },
  "language_info": {
   "codemirror_mode": {
    "name": "ipython",
    "version": 3
   },
   "file_extension": ".py",
   "mimetype": "text/x-python",
   "name": "python",
   "nbconvert_exporter": "python",
   "pygments_lexer": "ipython3",
   "version": "3.6.9"
  }
 },
 "nbformat": 4,
 "nbformat_minor": 4
}
